{
 "cells": [
  {
   "cell_type": "markdown",
   "id": "b69dc108",
   "metadata": {},
   "source": [
    "# My Jupyter Notebook on IBM Watson Studio"
   ]
  },
  {
   "cell_type": "markdown",
   "id": "996dbdab",
   "metadata": {},
   "source": [
    "**I am Taiyo Nishimoto**\n",
    "I am a student in Japan."
   ]
  },
  {
   "cell_type": "markdown",
   "id": "ebc6c82a",
   "metadata": {},
   "source": [
    "*I am interested in data science because I read the news about big data and data science. According to it, we can find the fact which is useful on a lot of field. I interested in health, so I would like to find new fact in that field.*"
   ]
  },
  {
   "cell_type": "markdown",
   "id": "a48760c8",
   "metadata": {},
   "source": [
    "### Adding the a to b."
   ]
  },
  {
   "cell_type": "code",
   "execution_count": 1,
   "id": "a4c7b90e",
   "metadata": {
    "scrolled": true
   },
   "outputs": [
    {
     "data": {
      "text/plain": [
       "72"
      ]
     },
     "execution_count": 1,
     "metadata": {},
     "output_type": "execute_result"
    }
   ],
   "source": [
    "a = 56\n",
    "b = 2**4\n",
    "a + b"
   ]
  },
  {
   "cell_type": "markdown",
   "id": "18926eb1",
   "metadata": {},
   "source": [
    "\t---\n",
    "    - this is my first jupyter notebook file.\n",
    "reference\n",
    "- [python official documents](https://docs.python.org/)\n",
    "\n",
    "how to write code: exponentiation\n",
    "\t`2**4`"
   ]
  }
 ],
 "metadata": {
  "kernelspec": {
   "display_name": "Python 3 (ipykernel)",
   "language": "python",
   "name": "python3"
  },
  "language_info": {
   "codemirror_mode": {
    "name": "ipython",
    "version": 3
   },
   "file_extension": ".py",
   "mimetype": "text/x-python",
   "name": "python",
   "nbconvert_exporter": "python",
   "pygments_lexer": "ipython3",
   "version": "3.9.12"
  }
 },
 "nbformat": 4,
 "nbformat_minor": 5
}
